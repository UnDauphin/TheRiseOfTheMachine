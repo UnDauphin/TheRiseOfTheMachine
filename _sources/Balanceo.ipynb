{
 "cells": [
  {
   "cell_type": "markdown",
   "metadata": {},
   "source": [
    "# Balanceo del dataset"
   ]
  },
  {
   "cell_type": "code",
   "execution_count": 16,
   "metadata": {},
   "outputs": [
    {
     "name": "stdout",
     "output_type": "stream",
     "text": [
      "Collecting imbalanced-learn\n",
      "  Downloading imbalanced_learn-0.12.4-py3-none-any.whl.metadata (8.3 kB)\n",
      "Requirement already satisfied: numpy>=1.17.3 in d:\\miniconda\\envs\\ml_venv\\lib\\site-packages (from imbalanced-learn) (1.21.3)\n",
      "Requirement already satisfied: scipy>=1.5.0 in d:\\miniconda\\envs\\ml_venv\\lib\\site-packages (from imbalanced-learn) (1.7.3)\n",
      "Requirement already satisfied: scikit-learn>=1.0.2 in d:\\miniconda\\envs\\ml_venv\\lib\\site-packages (from imbalanced-learn) (1.0.2)\n",
      "Collecting joblib>=1.1.1 (from imbalanced-learn)\n",
      "  Downloading joblib-1.4.2-py3-none-any.whl.metadata (5.4 kB)\n",
      "Requirement already satisfied: threadpoolctl>=2.0.0 in d:\\miniconda\\envs\\ml_venv\\lib\\site-packages (from imbalanced-learn) (3.0.0)\n",
      "Downloading imbalanced_learn-0.12.4-py3-none-any.whl (258 kB)\n",
      "Downloading joblib-1.4.2-py3-none-any.whl (301 kB)\n",
      "Installing collected packages: joblib, imbalanced-learn\n",
      "  Attempting uninstall: joblib\n",
      "    Found existing installation: joblib 1.1.0\n",
      "    Uninstalling joblib-1.1.0:\n",
      "      Successfully uninstalled joblib-1.1.0\n",
      "Successfully installed imbalanced-learn-0.12.4 joblib-1.4.2\n",
      "Note: you may need to restart the kernel to use updated packages.\n"
     ]
    }
   ],
   "source": [
    "pip install imbalanced-learn"
   ]
  },
  {
   "cell_type": "code",
   "execution_count": 1,
   "metadata": {},
   "outputs": [],
   "source": [
    "import tensorflow as tf\n",
    "import pandas as pd\n",
    "import numpy as np\n",
    "import seaborn as sns\n",
    "import matplotlib.pyplot as plt\n",
    "from ucimlrepo import fetch_ucirepo"
   ]
  },
  {
   "cell_type": "code",
   "execution_count": null,
   "metadata": {},
   "outputs": [],
   "source": [
    "covertype = fetch_ucirepo(id=31)\n"
   ]
  },
  {
   "cell_type": "code",
   "execution_count": 20,
   "metadata": {},
   "outputs": [],
   "source": [
    "X = covertype.data.features\n",
    "y = covertype.data.targets"
   ]
  },
  {
   "cell_type": "code",
   "execution_count": 11,
   "metadata": {},
   "outputs": [
    {
     "data": {
      "image/png": "[encoded data removed]",
      "text/plain": [
       "<Figure size 432x288 with 1 Axes>"
      ]
     },
     "metadata": {},
     "output_type": "display_data"
    }
   ],
   "source": [
    "#Tabla de frecuencias de los covertypes\n",
    "sns.set_style(\"whitegrid\")\n",
    "plt.title('Count of covertypes')\n",
    "sns.countplot(x=y.Cover_Type)\n",
    "plt.xlabel('Covertype')\n",
    "plt.ylabel('Frequency')\n",
    "plt.show()"
   ]
  },
  {
   "cell_type": "markdown",
   "metadata": {},
   "source": [
    "A la luz del desbalanceo que tenemos en el covertype, donde los covertype 1 y 2 tienen una frecuencia mucho mas alta que las otras clases, vamos a aplicar metodos de desbalanceo para poder trabajar nuestros modelos de Machine Learning"
   ]
  },
  {
   "cell_type": "markdown",
   "metadata": {},
   "source": [
    "## Técnica de sobremuestreo sintético de minorías(SMOTE)\n",
    "\n",
    "La técnica de sobremuestreo sintético de minorías (SMOTE) es un potente método utilizado para tratar el desequilibrio de clases en los conjuntos de datos. SMOTE resuelve este problema generando muestras de clases minoritarias para equilibrar la distribución de clases. SMOTE funciona generando ejemplos sintéticos en el espacio de características de la clase minoritaria.\n",
    "Procedimiento de trabajo de SMOTE:\n",
    "    Identificación de ejemplos de clases minoritarias: SMOTE funciona en conjuntos de datos en los que una o más clases están significativamente infrarrepresentadas en comparación con otras. El primer paso consiste en identificar la clase o clases minoritarias en el conjunto de datos.\n",
    "    Selección del vecino más próximo: Para cada clase minoritaria, SMOTE identifica sus k vecinos más cercanos en el espacio de características. El número de vecinos más próximos, denominado k, es un parámetro especificado por el usuario.\n",
    "    Generación de muestras sintéticas: Para cada instancia de clase minoritaria, SMOTE selecciona aleatoriamente uno de sus k vecinos más cercanos. A continuación, genera muestras sintéticas a lo largo del segmento de línea que une el caso de clase minoritaria y el vecino más próximo seleccionado en el espacio de características.\n",
    "    Sobremuestreo controlado: La cantidad de sobremuestreo se controla mediante un parámetro denominado proporción de sobremuestreo, que especifica la proporción deseada de muestras sintéticas con respecto a las muestras reales de la clase minoritaria. Por defecto, SMOTE intenta equilibrar la distribución de clases generando muestras sintéticas hasta que la clase minoritaria alcanza el mismo tamaño que la clase mayoritaria.\n",
    "    Repetir para todas las clases minoritarias C\n"
   ]
  },
  {
   "cell_type": "markdown",
   "metadata": {},
   "source": [
    "## ADASYN: método de muestreo sintético adaptativo\n",
    "\n",
    "ADASYN, una extensión de la técnica SMOTE, también se utiliza para tratar conjuntos de datos desequilibrados. ADASYN se centra en las densidades locales de las clases minoritarias. Averigua las regiones en las que el desequilibrio es muy grave y aplica la estrategia para generar muestras sintéticas en ellas. Genera más muestras donde la densidad es alta y menos muestras donde la densidad es baja. Este enfoque es muy útil en situaciones en las que la distribución de clases varía en el espacio de características.\n",
    "Procedimiento de trabajo de ADASYN\n",
    "\n",
    "    Ratios de desequilibrio de clases: El paso inicial de ADASYN es calcular el ratio de clase minoritaria que se obtiene dividiendo el número de muestras de clase mayoritaria por el número de muestras de clase minoritaria.\n",
    "    Hallar la distribución de densidad: Para cada instancia minoritaria, encontramos sus k vecinos más cercanos. A continuación, hallamos la distancia entre ellos utilizando métricas como la distancia Manhattan o la distancia euclidiana. Si las instancias están rodeadas por más vecinos cercanos, consideramos que la densidad es más alta; de lo contrario, la densidad se considera baja.\n",
    "    Ratio de generación de muestras: Una vez calculados el ratio de desequilibrio de clases y la distribución de la densidad, calculamos el ratio de generación de muestras. Averigua cuántas muestras deben generarse para cada caso de clase minoritaria. Para densidades más altas e instancias desequilibradas más grandes, se generan más muestras sintéticas.\n",
    "    Generación de muestras sintéticas: Combinando las instancias minoritarias con sus vecinos más cercanos, se generan nuevas muestras.\n",
    "    Creación de conjuntos de datos equilibrados: Al combinar las nuevas muestras sintéticas con las instancias minoritarias originales, aumenta la frecuencia de las clases minoritarias. Esto equilibra el conjunto de datos y ayuda al modelo a aprender con mayor precisión.\n",
    "    \n",
    "    "
   ]
  },
  {
   "cell_type": "code",
   "execution_count": 35,
   "metadata": {},
   "outputs": [],
   "source": [
    "from imblearn.over_sampling import SMOTE\n",
    "from imblearn.over_sampling import ADASYN"
   ]
  },
  {
   "cell_type": "code",
   "execution_count": null,
   "metadata": {},
   "outputs": [],
   "source": [
    "from sklearn.model_selection import train_test_split\n",
    "from sklearn.ensemble import RandomForestClassifier\n",
    "from sklearn.metrics import classification_report"
   ]
  },
  {
   "cell_type": "code",
   "execution_count": null,
   "metadata": {},
   "outputs": [],
   "source": [
    "# Dividir datos\n",
    "X_train, X_test, y_train, y_test = train_test_split(X, y, test_size=0.2, random_state=42)\n"
   ]
  },
  {
   "cell_type": "code",
   "execution_count": null,
   "metadata": {},
   "outputs": [],
   "source": [
    "# Aplicar SMOTE\n",
    "smote = SMOTE(random_state=42)\n",
    "X_train_res, y_train_res = smote.fit_resample(X_train, y_train)"
   ]
  },
  {
   "cell_type": "code",
   "execution_count": 38,
   "metadata": {},
   "outputs": [
    {
     "data": {
      "text/plain": [
       "Cover_Type\n",
       "5             227081\n",
       "6             226948\n",
       "4             226836\n",
       "2             226801\n",
       "7             226673\n",
       "1             225805\n",
       "3             225453\n",
       "dtype: int64"
      ]
     },
     "execution_count": 38,
     "metadata": {},
     "output_type": "execute_result"
    }
   ],
   "source": [
    "# Applying ADASYN\n",
    "adasyn = ADASYN(random_state = 42)\n",
    "X_train_ADA, y_train_ADA = adasyn.fit_resample(X_train, y_train)\n",
    "# Count outcome values after applying ADASYN\n",
    "y_train_ADA.value_counts()"
   ]
  },
  {
   "cell_type": "code",
   "execution_count": 25,
   "metadata": {},
   "outputs": [
    {
     "data": {
      "text/plain": [
       "Cover_Type\n",
       "2             226801\n",
       "1             169283\n",
       "3              28633\n",
       "7              16495\n",
       "6              13878\n",
       "5               7498\n",
       "4               2221\n",
       "dtype: int64"
      ]
     },
     "execution_count": 25,
     "metadata": {},
     "output_type": "execute_result"
    }
   ],
   "source": [
    "y_train.value_counts()\n"
   ]
  },
  {
   "cell_type": "code",
   "execution_count": 26,
   "metadata": {},
   "outputs": [
    {
     "data": {
      "text/plain": [
       "Cover_Type\n",
       "1             226801\n",
       "2             226801\n",
       "3             226801\n",
       "4             226801\n",
       "5             226801\n",
       "6             226801\n",
       "7             226801\n",
       "dtype: int64"
      ]
     },
     "execution_count": 26,
     "metadata": {},
     "output_type": "execute_result"
    }
   ],
   "source": [
    "y_train_res.value_counts()"
   ]
  },
  {
   "cell_type": "code",
   "execution_count": 33,
   "metadata": {},
   "outputs": [
    {
     "name": "stderr",
     "output_type": "stream",
     "text": [
      "C:\\Users\\ALEJAN~1\\AppData\\Local\\Temp/ipykernel_7620/747641090.py:3: DataConversionWarning: A column-vector y was passed when a 1d array was expected. Please change the shape of y to (n_samples,), for example using ravel().\n",
      "  model.fit(X_train, y_train)\n"
     ]
    },
    {
     "name": "stdout",
     "output_type": "stream",
     "text": [
      "              precision    recall  f1-score   support\n",
      "\n",
      "           1       0.66      0.72      0.69     42557\n",
      "           2       0.71      0.78      0.74     56500\n",
      "           3       0.61      0.61      0.61      7121\n",
      "           4       0.00      0.00      0.00       526\n",
      "           5       0.00      0.00      0.00      1995\n",
      "           6       0.00      0.00      0.00      3489\n",
      "           7       0.00      0.00      0.00      4015\n",
      "\n",
      "    accuracy                           0.68    116203\n",
      "   macro avg       0.28      0.30      0.29    116203\n",
      "weighted avg       0.62      0.68      0.65    116203\n",
      "\n"
     ]
    },
    {
     "name": "stderr",
     "output_type": "stream",
     "text": [
      "d:\\Miniconda\\envs\\ml_venv\\lib\\site-packages\\sklearn\\metrics\\_classification.py:1318: UndefinedMetricWarning: Precision and F-score are ill-defined and being set to 0.0 in labels with no predicted samples. Use `zero_division` parameter to control this behavior.\n",
      "  _warn_prf(average, modifier, msg_start, len(result))\n",
      "d:\\Miniconda\\envs\\ml_venv\\lib\\site-packages\\sklearn\\metrics\\_classification.py:1318: UndefinedMetricWarning: Precision and F-score are ill-defined and being set to 0.0 in labels with no predicted samples. Use `zero_division` parameter to control this behavior.\n",
      "  _warn_prf(average, modifier, msg_start, len(result))\n",
      "d:\\Miniconda\\envs\\ml_venv\\lib\\site-packages\\sklearn\\metrics\\_classification.py:1318: UndefinedMetricWarning: Precision and F-score are ill-defined and being set to 0.0 in labels with no predicted samples. Use `zero_division` parameter to control this behavior.\n",
      "  _warn_prf(average, modifier, msg_start, len(result))\n"
     ]
    }
   ],
   "source": [
    "# Entrenar modelo\n",
    "model = RandomForestClassifier(random_state = 42, max_depth = 5)\n",
    "model.fit(X_train, y_train)\n",
    "\n",
    "# Evaluar\n",
    "y_pred = model.predict(X_test)\n",
    "print(classification_report(y_test, y_pred))"
   ]
  },
  {
   "cell_type": "code",
   "execution_count": 31,
   "metadata": {},
   "outputs": [
    {
     "name": "stderr",
     "output_type": "stream",
     "text": [
      "C:\\Users\\ALEJAN~1\\AppData\\Local\\Temp/ipykernel_7620/1867543609.py:3: DataConversionWarning: A column-vector y was passed when a 1d array was expected. Please change the shape of y to (n_samples,), for example using ravel().\n",
      "  model.fit(X_train_res, y_train_res)\n"
     ]
    },
    {
     "name": "stdout",
     "output_type": "stream",
     "text": [
      "              precision    recall  f1-score   support\n",
      "\n",
      "           1       0.65      0.52      0.58     42557\n",
      "           2       0.80      0.40      0.54     56500\n",
      "           3       0.72      0.53      0.61      7121\n",
      "           4       0.21      0.94      0.34       526\n",
      "           5       0.06      0.82      0.12      1995\n",
      "           6       0.36      0.64      0.46      3489\n",
      "           7       0.25      0.92      0.40      4015\n",
      "\n",
      "    accuracy                           0.49    116203\n",
      "   macro avg       0.44      0.68      0.43    116203\n",
      "weighted avg       0.69      0.49      0.54    116203\n",
      "\n"
     ]
    }
   ],
   "source": [
    "# Entrenar modelo\n",
    "model = RandomForestClassifier(random_state = 42, max_depth = 5)\n",
    "model.fit(X_train_res, y_train_res)\n",
    "\n",
    "# Evaluar\n",
    "y_pred = model.predict(X_test)\n",
    "print(classification_report(y_test, y_pred))"
   ]
  },
  {
   "cell_type": "code",
   "execution_count": 39,
   "metadata": {},
   "outputs": [
    {
     "name": "stderr",
     "output_type": "stream",
     "text": [
      "C:\\Users\\ALEJAN~1\\AppData\\Local\\Temp/ipykernel_7620/1705256680.py:3: DataConversionWarning: A column-vector y was passed when a 1d array was expected. Please change the shape of y to (n_samples,), for example using ravel().\n",
      "  model.fit(X_train_ADA, y_train_ADA)\n"
     ]
    },
    {
     "name": "stdout",
     "output_type": "stream",
     "text": [
      "              precision    recall  f1-score   support\n",
      "\n",
      "           1       0.67      0.40      0.50     42557\n",
      "           2       0.78      0.43      0.56     56500\n",
      "           3       0.62      0.82      0.71      7121\n",
      "           4       0.37      0.59      0.46       526\n",
      "           5       0.07      0.83      0.12      1995\n",
      "           6       0.30      0.30      0.30      3489\n",
      "           7       0.20      0.98      0.33      4015\n",
      "\n",
      "    accuracy                           0.47    116203\n",
      "   macro avg       0.43      0.62      0.42    116203\n",
      "weighted avg       0.68      0.47      0.52    116203\n",
      "\n"
     ]
    }
   ],
   "source": [
    "# Entrenar modelo \n",
    "model = RandomForestClassifier(random_state = 42, max_depth = 5)\n",
    "model.fit(X_train_ADA, y_train_ADA)\n",
    "\n",
    "# Evaluar\n",
    "y_pred = model.predict(X_test)\n",
    "print(classification_report(y_test, y_pred))"
   ]
  }
 ],
 "metadata": {
  "kernelspec": {
   "display_name": "ml_venv",
   "language": "python",
   "name": "python3"
  },
  "language_info": {
   "codemirror_mode": {
    "name": "ipython",
    "version": 3
   },
   "file_extension": ".py",
   "mimetype": "text/x-python",
   "name": "python",
   "nbconvert_exporter": "python",
   "pygments_lexer": "ipython3",
   "version": "3.9.21"
  }
 },
 "nbformat": 4,
 "nbformat_minor": 2
}
